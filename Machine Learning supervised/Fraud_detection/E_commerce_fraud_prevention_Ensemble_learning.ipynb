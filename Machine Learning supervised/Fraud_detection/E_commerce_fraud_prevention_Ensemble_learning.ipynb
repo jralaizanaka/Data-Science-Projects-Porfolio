{
 "cells": [
  {
   "attachments": {},
   "cell_type": "markdown",
   "metadata": {},
   "source": [
    "# Fraudulent activities\n",
    "\n",
    "\n",
    "**Goal**\n",
    "\n",
    "- E-commerce websites often transact huge amounts of money. And whenever a huge amount of money is moved, there is a high risk of users performing fraudulent activities, e.g. using stolen credit cards, doing money laundry, etc.\n",
    "\n",
    "- Machine Learning really excels at identifying fraudulent activities. Any website where you put your credit card information has a risk team in charge of avoiding frauds via machine learning.\n",
    "\n",
    "- The goal of this project is to build a machine learning model that predicts the probability that the ﬁrst transaction of a new user is fraudulent.\n",
    "\n",
    "**Description**\n",
    "\n",
    "Company here is an e-commerce site that sells hand-made clothes.\n",
    "\n",
    "We have to build a model that predicts whether a user has a high probability of using the site to perform some illegal activity or not. \n",
    "\n",
    "We only have information about the user ﬁrst transaction on the site and based on that we have to make your classiﬁcation (\"fraud/no fraud\").\n",
    "\n",
    "These are the tasks we are asked to do:\n",
    "\n",
    "- For each user, determine her country based on the numeric IP address.\n",
    "- Build a model to predict whether an activity is fraudulent or not. \n",
    "- Explain how diﬀerent assumptions about the cost of false positives vs false negatives would impact the model.\n"
   ]
  },
  {
   "cell_type": "markdown",
   "metadata": {},
   "source": [
    "## Import libraries and data"
   ]
  },
  {
   "cell_type": "code",
   "execution_count": 56,
   "metadata": {},
   "outputs": [],
   "source": [
    "import pandas as pd\n",
    "import numpy as np\n",
    "import matplotlib.pyplot as plt\n",
    "import seaborn as sns\n",
    "\n",
    "from sklearn.model_selection import train_test_split\n",
    "from sklearn.preprocessing import  StandardScaler,OneHotEncoder\n",
    "from sklearn.linear_model import LinearRegression\n",
    "from sklearn.compose import ColumnTransformer\n",
    "\n",
    "from sklearn.linear_model import LogisticRegression, LogisticRegressionCV, RidgeClassifierCV\n",
    "from sklearn.linear_model import Ridge\n",
    "\n",
    "from sklearn.metrics import accuracy_score,confusion_matrix\n",
    "from sklearn.model_selection import cross_val_score, cross_val_predict, GridSearchCV\n",
    "from sklearn.ensemble import RandomForestClassifier,GradientBoostingClassifier, AdaBoostClassifier,StackingClassifier,BaggingRegressor\n",
    "import time\n",
    "import datetime\n",
    "from sklearn.metrics import accuracy_score, confusion_matrix,f1_score\n",
    "from sklearn.svm import SVC \n",
    "from sklearn.linear_model import LogisticRegression\n",
    "from sklearn.tree import DecisionTreeClassifier\n",
    "from tqdm import tqdm\n",
    "from xgboost import XGBClassifier"
   ]
  },
  {
   "cell_type": "code",
   "execution_count": 5,
   "metadata": {
    "scrolled": true
   },
   "outputs": [
    {
     "name": "stdout",
     "output_type": "stream",
     "text": [
      "Requirement already satisfied: pendulum in c:\\users\\jrala\\anaconda3\\lib\\site-packages (2.1.0)\n",
      "Requirement already satisfied: python-dateutil<3.0,>=2.6 in c:\\users\\jrala\\anaconda3\\lib\\site-packages (from pendulum) (2.8.1)\n",
      "Requirement already satisfied: pytzdata>=2018.3 in c:\\users\\jrala\\anaconda3\\lib\\site-packages (from pendulum) (2019.3)\n",
      "Requirement already satisfied: six>=1.5 in c:\\users\\jrala\\anaconda3\\lib\\site-packages (from python-dateutil<3.0,>=2.6->pendulum) (1.14.0)\n"
     ]
    }
   ],
   "source": [
    "! pip install pendulum"
   ]
  },
  {
   "cell_type": "code",
   "execution_count": 3,
   "metadata": {},
   "outputs": [
    {
     "data": {
      "text/plain": [
       "(151112, 11)"
      ]
     },
     "execution_count": 3,
     "metadata": {},
     "output_type": "execute_result"
    }
   ],
   "source": [
    "dataset=pd.read_csv('Fraud_Data.csv')\n",
    "dataset.shape"
   ]
  },
  {
   "cell_type": "code",
   "execution_count": 4,
   "metadata": {},
   "outputs": [
    {
     "data": {
      "text/plain": [
       "(138846, 3)"
      ]
     },
     "execution_count": 4,
     "metadata": {},
     "output_type": "execute_result"
    }
   ],
   "source": [
    "ip_data=pd.read_csv('IpAddress_to_Country.csv')\n",
    "ip_data.shape"
   ]
  },
  {
   "cell_type": "markdown",
   "metadata": {},
   "source": [
    "## EDA"
   ]
  },
  {
   "cell_type": "code",
   "execution_count": 5,
   "metadata": {},
   "outputs": [
    {
     "data": {
      "text/html": [
       "<div>\n",
       "<style scoped>\n",
       "    .dataframe tbody tr th:only-of-type {\n",
       "        vertical-align: middle;\n",
       "    }\n",
       "\n",
       "    .dataframe tbody tr th {\n",
       "        vertical-align: top;\n",
       "    }\n",
       "\n",
       "    .dataframe thead th {\n",
       "        text-align: right;\n",
       "    }\n",
       "</style>\n",
       "<table border=\"1\" class=\"dataframe\">\n",
       "  <thead>\n",
       "    <tr style=\"text-align: right;\">\n",
       "      <th></th>\n",
       "      <th>user_id</th>\n",
       "      <th>signup_time</th>\n",
       "      <th>purchase_time</th>\n",
       "      <th>purchase_value</th>\n",
       "      <th>device_id</th>\n",
       "      <th>source</th>\n",
       "      <th>browser</th>\n",
       "      <th>sex</th>\n",
       "      <th>age</th>\n",
       "      <th>ip_address</th>\n",
       "      <th>class</th>\n",
       "    </tr>\n",
       "  </thead>\n",
       "  <tbody>\n",
       "    <tr>\n",
       "      <th>0</th>\n",
       "      <td>22058</td>\n",
       "      <td>2015-02-24 22:55:49</td>\n",
       "      <td>2015-04-18 02:47:11</td>\n",
       "      <td>34</td>\n",
       "      <td>QVPSPJUOCKZAR</td>\n",
       "      <td>SEO</td>\n",
       "      <td>Chrome</td>\n",
       "      <td>M</td>\n",
       "      <td>39</td>\n",
       "      <td>7.327584e+08</td>\n",
       "      <td>0</td>\n",
       "    </tr>\n",
       "    <tr>\n",
       "      <th>1</th>\n",
       "      <td>333320</td>\n",
       "      <td>2015-06-07 20:39:50</td>\n",
       "      <td>2015-06-08 01:38:54</td>\n",
       "      <td>16</td>\n",
       "      <td>EOGFQPIZPYXFZ</td>\n",
       "      <td>Ads</td>\n",
       "      <td>Chrome</td>\n",
       "      <td>F</td>\n",
       "      <td>53</td>\n",
       "      <td>3.503114e+08</td>\n",
       "      <td>0</td>\n",
       "    </tr>\n",
       "    <tr>\n",
       "      <th>2</th>\n",
       "      <td>1359</td>\n",
       "      <td>2015-01-01 18:52:44</td>\n",
       "      <td>2015-01-01 18:52:45</td>\n",
       "      <td>15</td>\n",
       "      <td>YSSKYOSJHPPLJ</td>\n",
       "      <td>SEO</td>\n",
       "      <td>Opera</td>\n",
       "      <td>M</td>\n",
       "      <td>53</td>\n",
       "      <td>2.621474e+09</td>\n",
       "      <td>1</td>\n",
       "    </tr>\n",
       "    <tr>\n",
       "      <th>3</th>\n",
       "      <td>150084</td>\n",
       "      <td>2015-04-28 21:13:25</td>\n",
       "      <td>2015-05-04 13:54:50</td>\n",
       "      <td>44</td>\n",
       "      <td>ATGTXKYKUDUQN</td>\n",
       "      <td>SEO</td>\n",
       "      <td>Safari</td>\n",
       "      <td>M</td>\n",
       "      <td>41</td>\n",
       "      <td>3.840542e+09</td>\n",
       "      <td>0</td>\n",
       "    </tr>\n",
       "    <tr>\n",
       "      <th>4</th>\n",
       "      <td>221365</td>\n",
       "      <td>2015-07-21 07:09:52</td>\n",
       "      <td>2015-09-09 18:40:53</td>\n",
       "      <td>39</td>\n",
       "      <td>NAUITBZFJKHWW</td>\n",
       "      <td>Ads</td>\n",
       "      <td>Safari</td>\n",
       "      <td>M</td>\n",
       "      <td>45</td>\n",
       "      <td>4.155831e+08</td>\n",
       "      <td>0</td>\n",
       "    </tr>\n",
       "  </tbody>\n",
       "</table>\n",
       "</div>"
      ],
      "text/plain": [
       "   user_id          signup_time        purchase_time  purchase_value  \\\n",
       "0    22058  2015-02-24 22:55:49  2015-04-18 02:47:11              34   \n",
       "1   333320  2015-06-07 20:39:50  2015-06-08 01:38:54              16   \n",
       "2     1359  2015-01-01 18:52:44  2015-01-01 18:52:45              15   \n",
       "3   150084  2015-04-28 21:13:25  2015-05-04 13:54:50              44   \n",
       "4   221365  2015-07-21 07:09:52  2015-09-09 18:40:53              39   \n",
       "\n",
       "       device_id source browser sex  age    ip_address  class  \n",
       "0  QVPSPJUOCKZAR    SEO  Chrome   M   39  7.327584e+08      0  \n",
       "1  EOGFQPIZPYXFZ    Ads  Chrome   F   53  3.503114e+08      0  \n",
       "2  YSSKYOSJHPPLJ    SEO   Opera   M   53  2.621474e+09      1  \n",
       "3  ATGTXKYKUDUQN    SEO  Safari   M   41  3.840542e+09      0  \n",
       "4  NAUITBZFJKHWW    Ads  Safari   M   45  4.155831e+08      0  "
      ]
     },
     "execution_count": 5,
     "metadata": {},
     "output_type": "execute_result"
    }
   ],
   "source": [
    "dataset.head()"
   ]
  },
  {
   "cell_type": "code",
   "execution_count": 6,
   "metadata": {},
   "outputs": [
    {
     "name": "stdout",
     "output_type": "stream",
     "text": [
      "              user_id          signup_time        purchase_time  \\\n",
      "count   151112.000000               151112               151112   \n",
      "unique            NaN               151112               150679   \n",
      "top               NaN  2015-02-01 17:18:27  2015-09-10 09:04:53   \n",
      "freq              NaN                    1                    3   \n",
      "mean    200171.040970                  NaN                  NaN   \n",
      "std     115369.285024                  NaN                  NaN   \n",
      "min          2.000000                  NaN                  NaN   \n",
      "25%     100642.500000                  NaN                  NaN   \n",
      "50%     199958.000000                  NaN                  NaN   \n",
      "75%     300054.000000                  NaN                  NaN   \n",
      "max     400000.000000                  NaN                  NaN   \n",
      "\n",
      "        purchase_value      device_id  source browser     sex            age  \\\n",
      "count    151112.000000         151112  151112  151112  151112  151112.000000   \n",
      "unique             NaN         137956       3       5       2            NaN   \n",
      "top                NaN  CQTUVBYIWWWBC     SEO  Chrome       M            NaN   \n",
      "freq               NaN             20   60615   61432   88293            NaN   \n",
      "mean         36.935372            NaN     NaN     NaN     NaN      33.140704   \n",
      "std          18.322762            NaN     NaN     NaN     NaN       8.617733   \n",
      "min           9.000000            NaN     NaN     NaN     NaN      18.000000   \n",
      "25%          22.000000            NaN     NaN     NaN     NaN      27.000000   \n",
      "50%          35.000000            NaN     NaN     NaN     NaN      33.000000   \n",
      "75%          49.000000            NaN     NaN     NaN     NaN      39.000000   \n",
      "max         154.000000            NaN     NaN     NaN     NaN      76.000000   \n",
      "\n",
      "          ip_address          class  \n",
      "count   1.511120e+05  151112.000000  \n",
      "unique           NaN            NaN  \n",
      "top              NaN            NaN  \n",
      "freq             NaN            NaN  \n",
      "mean    2.152145e+09       0.093646  \n",
      "std     1.248497e+09       0.291336  \n",
      "min     5.209350e+04       0.000000  \n",
      "25%     1.085934e+09       0.000000  \n",
      "50%     2.154770e+09       0.000000  \n",
      "75%     3.243258e+09       0.000000  \n",
      "max     4.294850e+09       1.000000  \n",
      "(151112, 11)\n"
     ]
    }
   ],
   "source": [
    "# Basic stats\n",
    "data_desc = dataset.describe(include='all')\n",
    "print(data_desc)\n",
    "print(dataset.shape)"
   ]
  },
  {
   "cell_type": "markdown",
   "metadata": {},
   "source": [
    "*No missing values*"
   ]
  },
  {
   "cell_type": "code",
   "execution_count": 9,
   "metadata": {},
   "outputs": [
    {
     "data": {
      "text/plain": [
       "0    0.906354\n",
       "1    0.093646\n",
       "Name: class, dtype: float64"
      ]
     },
     "execution_count": 9,
     "metadata": {},
     "output_type": "execute_result"
    }
   ],
   "source": [
    "dataset['class'].value_counts(normalize=True)"
   ]
  },
  {
   "cell_type": "markdown",
   "metadata": {},
   "source": [
    "*9,3% of transactions are fraudulent*"
   ]
  },
  {
   "cell_type": "code",
   "execution_count": 7,
   "metadata": {},
   "outputs": [
    {
     "name": "stdout",
     "output_type": "stream",
     "text": [
      "        lower_bound_ip_address  upper_bound_ip_address        country\n",
      "count             1.388460e+05            1.388460e+05         138846\n",
      "unique                     NaN                     NaN            235\n",
      "top                        NaN                     NaN  United States\n",
      "freq                       NaN                     NaN          46868\n",
      "mean              2.724532e+09            2.724557e+09            NaN\n",
      "std               8.975215e+08            8.974979e+08            NaN\n",
      "min               1.677722e+07            1.677747e+07            NaN\n",
      "25%               1.919930e+09            1.920008e+09            NaN\n",
      "50%               3.230887e+09            3.230888e+09            NaN\n",
      "75%               3.350465e+09            3.350466e+09            NaN\n",
      "max               3.758096e+09            3.758096e+09            NaN\n",
      "(138846, 3)\n"
     ]
    }
   ],
   "source": [
    "# Basic stats\n",
    "data_ip = ip_data.describe(include='all')\n",
    "print(data_ip)\n",
    "print(ip_data.shape)"
   ]
  },
  {
   "cell_type": "code",
   "execution_count": 8,
   "metadata": {},
   "outputs": [
    {
     "data": {
      "text/html": [
       "<div>\n",
       "<style scoped>\n",
       "    .dataframe tbody tr th:only-of-type {\n",
       "        vertical-align: middle;\n",
       "    }\n",
       "\n",
       "    .dataframe tbody tr th {\n",
       "        vertical-align: top;\n",
       "    }\n",
       "\n",
       "    .dataframe thead th {\n",
       "        text-align: right;\n",
       "    }\n",
       "</style>\n",
       "<table border=\"1\" class=\"dataframe\">\n",
       "  <thead>\n",
       "    <tr style=\"text-align: right;\">\n",
       "      <th></th>\n",
       "      <th>lower_bound_ip_address</th>\n",
       "      <th>upper_bound_ip_address</th>\n",
       "      <th>country</th>\n",
       "    </tr>\n",
       "  </thead>\n",
       "  <tbody>\n",
       "    <tr>\n",
       "      <th>0</th>\n",
       "      <td>16777216.0</td>\n",
       "      <td>16777471</td>\n",
       "      <td>Australia</td>\n",
       "    </tr>\n",
       "    <tr>\n",
       "      <th>1</th>\n",
       "      <td>16777472.0</td>\n",
       "      <td>16777727</td>\n",
       "      <td>China</td>\n",
       "    </tr>\n",
       "    <tr>\n",
       "      <th>2</th>\n",
       "      <td>16777728.0</td>\n",
       "      <td>16778239</td>\n",
       "      <td>China</td>\n",
       "    </tr>\n",
       "    <tr>\n",
       "      <th>3</th>\n",
       "      <td>16778240.0</td>\n",
       "      <td>16779263</td>\n",
       "      <td>Australia</td>\n",
       "    </tr>\n",
       "    <tr>\n",
       "      <th>4</th>\n",
       "      <td>16779264.0</td>\n",
       "      <td>16781311</td>\n",
       "      <td>China</td>\n",
       "    </tr>\n",
       "  </tbody>\n",
       "</table>\n",
       "</div>"
      ],
      "text/plain": [
       "   lower_bound_ip_address  upper_bound_ip_address    country\n",
       "0              16777216.0                16777471  Australia\n",
       "1              16777472.0                16777727      China\n",
       "2              16777728.0                16778239      China\n",
       "3              16778240.0                16779263  Australia\n",
       "4              16779264.0                16781311      China"
      ]
     },
     "execution_count": 8,
     "metadata": {},
     "output_type": "execute_result"
    }
   ],
   "source": [
    "ip_data.head()"
   ]
  },
  {
   "cell_type": "markdown",
   "metadata": {},
   "source": [
    "## Data Engineering"
   ]
  },
  {
   "cell_type": "code",
   "execution_count": 11,
   "metadata": {},
   "outputs": [
    {
     "name": "stderr",
     "output_type": "stream",
     "text": [
      "100%|██████████| 151112/151112 [02:26<00:00, 1029.12it/s]"
     ]
    },
    {
     "name": "stdout",
     "output_type": "stream",
     "text": [
      "--- 146.83876585960388 seconds ---\n"
     ]
    },
    {
     "name": "stderr",
     "output_type": "stream",
     "text": [
      "\n"
     ]
    }
   ],
   "source": [
    "## Add country column to the user dataset\n",
    "start_time = time.time()\n",
    "countries = []\n",
    "for i in tqdm(range(len(dataset))):\n",
    "    ip_address = dataset['ip_address'][i]\n",
    "        \n",
    "    tmp = ip_data[(ip_data['lower_bound_ip_address'] <= ip_address) &\n",
    "                          (ip_data['upper_bound_ip_address'] >= ip_address)] \n",
    "    \n",
    "    if len(tmp) == 1:\n",
    "        countries.append(tmp['country'].values[0])\n",
    "    else:\n",
    "        countries.append('Unkown')\n",
    "        \n",
    "dataset['country'] = countries\n",
    "print(\"--- %s seconds ---\" % (time.time() - start_time)) "
   ]
  },
  {
   "cell_type": "code",
   "execution_count": 12,
   "metadata": {
    "scrolled": false
   },
   "outputs": [
    {
     "data": {
      "text/html": [
       "<div>\n",
       "<style scoped>\n",
       "    .dataframe tbody tr th:only-of-type {\n",
       "        vertical-align: middle;\n",
       "    }\n",
       "\n",
       "    .dataframe tbody tr th {\n",
       "        vertical-align: top;\n",
       "    }\n",
       "\n",
       "    .dataframe thead th {\n",
       "        text-align: right;\n",
       "    }\n",
       "</style>\n",
       "<table border=\"1\" class=\"dataframe\">\n",
       "  <thead>\n",
       "    <tr style=\"text-align: right;\">\n",
       "      <th></th>\n",
       "      <th>user_id</th>\n",
       "      <th>signup_time</th>\n",
       "      <th>purchase_time</th>\n",
       "      <th>purchase_value</th>\n",
       "      <th>device_id</th>\n",
       "      <th>source</th>\n",
       "      <th>browser</th>\n",
       "      <th>sex</th>\n",
       "      <th>age</th>\n",
       "      <th>ip_address</th>\n",
       "      <th>class</th>\n",
       "      <th>country</th>\n",
       "    </tr>\n",
       "  </thead>\n",
       "  <tbody>\n",
       "    <tr>\n",
       "      <th>0</th>\n",
       "      <td>22058</td>\n",
       "      <td>2015-02-24 22:55:49</td>\n",
       "      <td>2015-04-18 02:47:11</td>\n",
       "      <td>34</td>\n",
       "      <td>QVPSPJUOCKZAR</td>\n",
       "      <td>SEO</td>\n",
       "      <td>Chrome</td>\n",
       "      <td>M</td>\n",
       "      <td>39</td>\n",
       "      <td>7.327584e+08</td>\n",
       "      <td>0</td>\n",
       "      <td>Japan</td>\n",
       "    </tr>\n",
       "    <tr>\n",
       "      <th>1</th>\n",
       "      <td>333320</td>\n",
       "      <td>2015-06-07 20:39:50</td>\n",
       "      <td>2015-06-08 01:38:54</td>\n",
       "      <td>16</td>\n",
       "      <td>EOGFQPIZPYXFZ</td>\n",
       "      <td>Ads</td>\n",
       "      <td>Chrome</td>\n",
       "      <td>F</td>\n",
       "      <td>53</td>\n",
       "      <td>3.503114e+08</td>\n",
       "      <td>0</td>\n",
       "      <td>United States</td>\n",
       "    </tr>\n",
       "    <tr>\n",
       "      <th>2</th>\n",
       "      <td>1359</td>\n",
       "      <td>2015-01-01 18:52:44</td>\n",
       "      <td>2015-01-01 18:52:45</td>\n",
       "      <td>15</td>\n",
       "      <td>YSSKYOSJHPPLJ</td>\n",
       "      <td>SEO</td>\n",
       "      <td>Opera</td>\n",
       "      <td>M</td>\n",
       "      <td>53</td>\n",
       "      <td>2.621474e+09</td>\n",
       "      <td>1</td>\n",
       "      <td>United States</td>\n",
       "    </tr>\n",
       "    <tr>\n",
       "      <th>3</th>\n",
       "      <td>150084</td>\n",
       "      <td>2015-04-28 21:13:25</td>\n",
       "      <td>2015-05-04 13:54:50</td>\n",
       "      <td>44</td>\n",
       "      <td>ATGTXKYKUDUQN</td>\n",
       "      <td>SEO</td>\n",
       "      <td>Safari</td>\n",
       "      <td>M</td>\n",
       "      <td>41</td>\n",
       "      <td>3.840542e+09</td>\n",
       "      <td>0</td>\n",
       "      <td>Unkown</td>\n",
       "    </tr>\n",
       "    <tr>\n",
       "      <th>4</th>\n",
       "      <td>221365</td>\n",
       "      <td>2015-07-21 07:09:52</td>\n",
       "      <td>2015-09-09 18:40:53</td>\n",
       "      <td>39</td>\n",
       "      <td>NAUITBZFJKHWW</td>\n",
       "      <td>Ads</td>\n",
       "      <td>Safari</td>\n",
       "      <td>M</td>\n",
       "      <td>45</td>\n",
       "      <td>4.155831e+08</td>\n",
       "      <td>0</td>\n",
       "      <td>United States</td>\n",
       "    </tr>\n",
       "  </tbody>\n",
       "</table>\n",
       "</div>"
      ],
      "text/plain": [
       "   user_id          signup_time        purchase_time  purchase_value  \\\n",
       "0    22058  2015-02-24 22:55:49  2015-04-18 02:47:11              34   \n",
       "1   333320  2015-06-07 20:39:50  2015-06-08 01:38:54              16   \n",
       "2     1359  2015-01-01 18:52:44  2015-01-01 18:52:45              15   \n",
       "3   150084  2015-04-28 21:13:25  2015-05-04 13:54:50              44   \n",
       "4   221365  2015-07-21 07:09:52  2015-09-09 18:40:53              39   \n",
       "\n",
       "       device_id source browser sex  age    ip_address  class        country  \n",
       "0  QVPSPJUOCKZAR    SEO  Chrome   M   39  7.327584e+08      0          Japan  \n",
       "1  EOGFQPIZPYXFZ    Ads  Chrome   F   53  3.503114e+08      0  United States  \n",
       "2  YSSKYOSJHPPLJ    SEO   Opera   M   53  2.621474e+09      1  United States  \n",
       "3  ATGTXKYKUDUQN    SEO  Safari   M   41  3.840542e+09      0         Unkown  \n",
       "4  NAUITBZFJKHWW    Ads  Safari   M   45  4.155831e+08      0  United States  "
      ]
     },
     "execution_count": 12,
     "metadata": {},
     "output_type": "execute_result"
    }
   ],
   "source": [
    "dataset.head()"
   ]
  },
  {
   "cell_type": "code",
   "execution_count": 103,
   "metadata": {},
   "outputs": [
    {
     "data": {
      "text/plain": [
       "United States                           58049\n",
       "NA                                      21966\n",
       "China                                   12038\n",
       "Japan                                    7306\n",
       "United Kingdom                           4490\n",
       "Korea Republic of                        4162\n",
       "Germany                                  3646\n",
       "France                                   3161\n",
       "Canada                                   2975\n",
       "Brazil                                   2961\n",
       "Italy                                    1944\n",
       "Australia                                1844\n",
       "Netherlands                              1680\n",
       "Russian Federation                       1616\n",
       "India                                    1310\n",
       "Taiwan; Republic of China (ROC)          1237\n",
       "Mexico                                   1121\n",
       "Sweden                                   1090\n",
       "Spain                                    1027\n",
       "South Africa                              838\n",
       "Switzerland                               785\n",
       "Poland                                    729\n",
       "Argentina                                 661\n",
       "Indonesia                                 649\n",
       "Norway                                    609\n",
       "Colombia                                  602\n",
       "Turkey                                    568\n",
       "Viet Nam                                  550\n",
       "Romania                                   525\n",
       "Denmark                                   490\n",
       "Hong Kong                                 471\n",
       "Finland                                   460\n",
       "Austria                                   435\n",
       "Ukraine                                   429\n",
       "Chile                                     417\n",
       "Belgium                                   409\n",
       "Iran (ISLAMIC Republic Of)                389\n",
       "Egypt                                     359\n",
       "Czech Republic                            349\n",
       "Thailand                                  291\n",
       "New Zealand                               278\n",
       "Israel                                    272\n",
       "Saudi Arabia                              264\n",
       "Venezuela                                 251\n",
       "Ireland                                   240\n",
       "European Union                            238\n",
       "Greece                                    231\n",
       "Portugal                                  229\n",
       "Hungary                                   211\n",
       "Malaysia                                  210\n",
       "Singapore                                 208\n",
       "Pakistan                                  186\n",
       "Philippines                               177\n",
       "Bulgaria                                  166\n",
       "Morocco                                   158\n",
       "Algeria                                   122\n",
       "Peru                                      119\n",
       "Tunisia                                   118\n",
       "United Arab Emirates                      114\n",
       "Ecuador                                   106\n",
       "Lithuania                                  95\n",
       "Seychelles                                 95\n",
       "Kenya                                      93\n",
       "Kazakhstan                                 92\n",
       "Kuwait                                     90\n",
       "Costa Rica                                 90\n",
       "Slovenia                                   87\n",
       "Slovakia (SLOVAK Republic)                 86\n",
       "Uruguay                                    80\n",
       "Croatia (LOCAL Name: Hrvatska)             79\n",
       "Belarus                                    72\n",
       "Luxembourg                                 72\n",
       "Serbia                                     69\n",
       "Nigeria                                    67\n",
       "Latvia                                     64\n",
       "Panama                                     62\n",
       "Bolivia                                    53\n",
       "Dominican Republic                         51\n",
       "Cyprus                                     43\n",
       "Estonia                                    42\n",
       "Oman                                       41\n",
       "Bangladesh                                 37\n",
       "Moldova Republic of                        37\n",
       "Paraguay                                   35\n",
       "Georgia                                    32\n",
       "Sri Lanka                                  31\n",
       "Bosnia and Herzegowina                     30\n",
       "Puerto Rico                                30\n",
       "Jordan                                     28\n",
       "Lebanon                                    28\n",
       "Qatar                                      25\n",
       "Sudan                                      25\n",
       "El Salvador                                25\n",
       "Syrian Arab Republic                       24\n",
       "Angola                                     24\n",
       "Macedonia                                  24\n",
       "Namibia                                    23\n",
       "Azerbaijan                                 23\n",
       "Malta                                      22\n",
       "Trinidad and Tobago                        22\n",
       "Guatemala                                  20\n",
       "Iraq                                       20\n",
       "Iceland                                    19\n",
       "Kyrgyzstan                                 18\n",
       "Nepal                                      18\n",
       "Mauritius                                  17\n",
       "Mozambique                                 16\n",
       "Nicaragua                                  16\n",
       "Palestinian Territory Occupied             16\n",
       "Cambodia                                   15\n",
       "Rwanda                                     15\n",
       "Armenia                                    15\n",
       "Tanzania United Republic of                15\n",
       "Bahrain                                    14\n",
       "Libyan Arab Jamahiriya                     14\n",
       "Uganda                                     13\n",
       "Albania                                    13\n",
       "Ghana                                      11\n",
       "Zambia                                     10\n",
       "Uzbekistan                                 10\n",
       "Macau                                      10\n",
       "Senegal                                     9\n",
       "Honduras                                    9\n",
       "Barbados                                    9\n",
       "Gabon                                       9\n",
       "Cuba                                        9\n",
       "Malawi                                      7\n",
       "Montenegro                                  7\n",
       "Belize                                      7\n",
       "Brunei Darussalam                           7\n",
       "Guam                                        7\n",
       "Jamaica                                     7\n",
       "Zimbabwe                                    6\n",
       "Mongolia                                    6\n",
       "Afghanistan                                 6\n",
       "Cote D'ivoire                               6\n",
       "Cameroon                                    5\n",
       "New Caledonia                               5\n",
       "Haiti                                       4\n",
       "Ethiopia                                    4\n",
       "Bahamas                                     4\n",
       "Lao People's Democratic Republic            4\n",
       "Cayman Islands                              4\n",
       "Papua New Guinea                            4\n",
       "Reunion                                     3\n",
       "Virgin Islands (U.S.)                       3\n",
       "Congo The Democratic Republic of The        3\n",
       "Antigua and Barbuda                         3\n",
       "Djibouti                                    3\n",
       "Monaco                                      3\n",
       "Botswana                                    3\n",
       "Curacao                                     3\n",
       "Congo                                       3\n",
       "Faroe Islands                               3\n",
       "Burkina Faso                                2\n",
       "Maldives                                    2\n",
       "Lesotho                                     2\n",
       "Bermuda                                     2\n",
       "Benin                                       2\n",
       "Liechtenstein                               2\n",
       "Gibraltar                                   2\n",
       "Saint Kitts and Nevis                       2\n",
       "Fiji                                        2\n",
       "Bhutan                                      2\n",
       "Niger                                       1\n",
       "Vanuatu                                     1\n",
       "Gambia                                      1\n",
       "Madagascar                                  1\n",
       "Nauru                                       1\n",
       "Bonaire; Sint Eustatius; Saba               1\n",
       "Burundi                                     1\n",
       "Tajikistan                                  1\n",
       "Dominica                                    1\n",
       "Myanmar                                     1\n",
       "Saint Martin                                1\n",
       "Turkmenistan                                1\n",
       "British Indian Ocean Territory              1\n",
       "Cape Verde                                  1\n",
       "South Sudan                                 1\n",
       "Guadeloupe                                  1\n",
       "San Marino                                  1\n",
       "Yemen                                       1\n",
       "Name: country, dtype: int64"
      ]
     },
     "execution_count": 103,
     "metadata": {},
     "output_type": "execute_result"
    }
   ],
   "source": [
    "#% of converted by country;\n",
    "dataset.country.value_counts()"
   ]
  },
  {
   "cell_type": "code",
   "execution_count": 18,
   "metadata": {},
   "outputs": [
    {
     "data": {
      "text/plain": [
       "Index(['United States', 'Unkown', 'China', 'Japan', 'United Kingdom',\n",
       "       'Korea Republic of', 'Germany', 'France', 'Canada', 'Brazil', 'Italy',\n",
       "       'Australia', 'Netherlands', 'Russian Federation', 'India',\n",
       "       'Taiwan; Republic of China (ROC)', 'Mexico', 'Sweden', 'Spain',\n",
       "       'South Africa'],\n",
       "      dtype='object')"
      ]
     },
     "execution_count": 18,
     "metadata": {},
     "output_type": "execute_result"
    }
   ],
   "source": [
    "country=dataset.country.value_counts(normalize=True).index\n",
    "country[0:20]"
   ]
  },
  {
   "cell_type": "code",
   "execution_count": 15,
   "metadata": {
    "scrolled": true
   },
   "outputs": [
    {
     "data": {
      "text/plain": [
       "United States     0.392269\n",
       "Unkown            0.133065\n",
       "China             0.073705\n",
       "Japan             0.050526\n",
       "United Kingdom    0.033708\n",
       "                    ...   \n",
       "Mauritius         0.000071\n",
       "Nicaragua         0.000071\n",
       "Senegal           0.000071\n",
       "Malawi            0.000071\n",
       "Guatemala         0.000071\n",
       "Name: country, Length: 110, dtype: float64"
      ]
     },
     "execution_count": 15,
     "metadata": {},
     "output_type": "execute_result"
    }
   ],
   "source": [
    "#% of converted by country;\n",
    "dataset.loc[dataset[\"class\"]==1].country.value_counts(normalize=True)"
   ]
  },
  {
   "cell_type": "code",
   "execution_count": 276,
   "metadata": {},
   "outputs": [],
   "source": [
    "taille_country=country[0:40]\n",
    "dataset['country2']=dataset['country']\n",
    "dataset['country2']=dataset.country2.apply(lambda x:\n",
    "                       \"Others\" if x not in taille_country\n",
    "                                    else x)"
   ]
  },
  {
   "cell_type": "code",
   "execution_count": 277,
   "metadata": {},
   "outputs": [
    {
     "data": {
      "text/html": [
       "<div>\n",
       "<style scoped>\n",
       "    .dataframe tbody tr th:only-of-type {\n",
       "        vertical-align: middle;\n",
       "    }\n",
       "\n",
       "    .dataframe tbody tr th {\n",
       "        vertical-align: top;\n",
       "    }\n",
       "\n",
       "    .dataframe thead th {\n",
       "        text-align: right;\n",
       "    }\n",
       "</style>\n",
       "<table border=\"1\" class=\"dataframe\">\n",
       "  <thead>\n",
       "    <tr style=\"text-align: right;\">\n",
       "      <th></th>\n",
       "      <th>user_id</th>\n",
       "      <th>signup_time</th>\n",
       "      <th>purchase_time</th>\n",
       "      <th>purchase_value</th>\n",
       "      <th>device_id</th>\n",
       "      <th>source</th>\n",
       "      <th>browser</th>\n",
       "      <th>sex</th>\n",
       "      <th>age</th>\n",
       "      <th>ip_address</th>\n",
       "      <th>class</th>\n",
       "      <th>country</th>\n",
       "      <th>country2</th>\n",
       "      <th>day_of_week</th>\n",
       "      <th>month</th>\n",
       "      <th>week_of_month</th>\n",
       "      <th>tdelta</th>\n",
       "      <th>day_of_week_sign</th>\n",
       "      <th>month_sign</th>\n",
       "      <th>week_of_month_sign</th>\n",
       "    </tr>\n",
       "  </thead>\n",
       "  <tbody>\n",
       "    <tr>\n",
       "      <th>0</th>\n",
       "      <td>22058</td>\n",
       "      <td>2015-02-24 22:55:49</td>\n",
       "      <td>2015-04-18 02:47:11</td>\n",
       "      <td>34</td>\n",
       "      <td>QVPSPJUOCKZAR</td>\n",
       "      <td>SEO</td>\n",
       "      <td>Chrome</td>\n",
       "      <td>M</td>\n",
       "      <td>39</td>\n",
       "      <td>7.327584e+08</td>\n",
       "      <td>0</td>\n",
       "      <td>Japan</td>\n",
       "      <td>Japan</td>\n",
       "      <td>sat</td>\n",
       "      <td>April</td>\n",
       "      <td>w3</td>\n",
       "      <td>4506682.0</td>\n",
       "      <td>tue</td>\n",
       "      <td>February</td>\n",
       "      <td>w5</td>\n",
       "    </tr>\n",
       "    <tr>\n",
       "      <th>1</th>\n",
       "      <td>333320</td>\n",
       "      <td>2015-06-07 20:39:50</td>\n",
       "      <td>2015-06-08 01:38:54</td>\n",
       "      <td>16</td>\n",
       "      <td>EOGFQPIZPYXFZ</td>\n",
       "      <td>Ads</td>\n",
       "      <td>Chrome</td>\n",
       "      <td>F</td>\n",
       "      <td>53</td>\n",
       "      <td>3.503114e+08</td>\n",
       "      <td>0</td>\n",
       "      <td>United States</td>\n",
       "      <td>United States</td>\n",
       "      <td>mon</td>\n",
       "      <td>June</td>\n",
       "      <td>w2</td>\n",
       "      <td>17944.0</td>\n",
       "      <td>sun</td>\n",
       "      <td>June</td>\n",
       "      <td>w1</td>\n",
       "    </tr>\n",
       "    <tr>\n",
       "      <th>2</th>\n",
       "      <td>1359</td>\n",
       "      <td>2015-01-01 18:52:44</td>\n",
       "      <td>2015-01-01 18:52:45</td>\n",
       "      <td>15</td>\n",
       "      <td>YSSKYOSJHPPLJ</td>\n",
       "      <td>SEO</td>\n",
       "      <td>Opera</td>\n",
       "      <td>M</td>\n",
       "      <td>53</td>\n",
       "      <td>2.621474e+09</td>\n",
       "      <td>1</td>\n",
       "      <td>United States</td>\n",
       "      <td>United States</td>\n",
       "      <td>thu</td>\n",
       "      <td>January</td>\n",
       "      <td>w1</td>\n",
       "      <td>1.0</td>\n",
       "      <td>thu</td>\n",
       "      <td>January</td>\n",
       "      <td>w1</td>\n",
       "    </tr>\n",
       "    <tr>\n",
       "      <th>3</th>\n",
       "      <td>150084</td>\n",
       "      <td>2015-04-28 21:13:25</td>\n",
       "      <td>2015-05-04 13:54:50</td>\n",
       "      <td>44</td>\n",
       "      <td>ATGTXKYKUDUQN</td>\n",
       "      <td>SEO</td>\n",
       "      <td>Safari</td>\n",
       "      <td>M</td>\n",
       "      <td>41</td>\n",
       "      <td>3.840542e+09</td>\n",
       "      <td>0</td>\n",
       "      <td>Unkown</td>\n",
       "      <td>Unkown</td>\n",
       "      <td>mon</td>\n",
       "      <td>May</td>\n",
       "      <td>w2</td>\n",
       "      <td>492085.0</td>\n",
       "      <td>tue</td>\n",
       "      <td>April</td>\n",
       "      <td>w5</td>\n",
       "    </tr>\n",
       "    <tr>\n",
       "      <th>4</th>\n",
       "      <td>221365</td>\n",
       "      <td>2015-07-21 07:09:52</td>\n",
       "      <td>2015-09-09 18:40:53</td>\n",
       "      <td>39</td>\n",
       "      <td>NAUITBZFJKHWW</td>\n",
       "      <td>Ads</td>\n",
       "      <td>Safari</td>\n",
       "      <td>M</td>\n",
       "      <td>45</td>\n",
       "      <td>4.155831e+08</td>\n",
       "      <td>0</td>\n",
       "      <td>United States</td>\n",
       "      <td>United States</td>\n",
       "      <td>wed</td>\n",
       "      <td>September</td>\n",
       "      <td>w2</td>\n",
       "      <td>4361461.0</td>\n",
       "      <td>tue</td>\n",
       "      <td>July</td>\n",
       "      <td>w4</td>\n",
       "    </tr>\n",
       "  </tbody>\n",
       "</table>\n",
       "</div>"
      ],
      "text/plain": [
       "   user_id          signup_time        purchase_time  purchase_value  \\\n",
       "0    22058  2015-02-24 22:55:49  2015-04-18 02:47:11              34   \n",
       "1   333320  2015-06-07 20:39:50  2015-06-08 01:38:54              16   \n",
       "2     1359  2015-01-01 18:52:44  2015-01-01 18:52:45              15   \n",
       "3   150084  2015-04-28 21:13:25  2015-05-04 13:54:50              44   \n",
       "4   221365  2015-07-21 07:09:52  2015-09-09 18:40:53              39   \n",
       "\n",
       "       device_id source browser sex  age    ip_address  class        country  \\\n",
       "0  QVPSPJUOCKZAR    SEO  Chrome   M   39  7.327584e+08      0          Japan   \n",
       "1  EOGFQPIZPYXFZ    Ads  Chrome   F   53  3.503114e+08      0  United States   \n",
       "2  YSSKYOSJHPPLJ    SEO   Opera   M   53  2.621474e+09      1  United States   \n",
       "3  ATGTXKYKUDUQN    SEO  Safari   M   41  3.840542e+09      0         Unkown   \n",
       "4  NAUITBZFJKHWW    Ads  Safari   M   45  4.155831e+08      0  United States   \n",
       "\n",
       "        country2 day_of_week      month week_of_month     tdelta  \\\n",
       "0          Japan         sat      April            w3  4506682.0   \n",
       "1  United States         mon       June            w2    17944.0   \n",
       "2  United States         thu    January            w1        1.0   \n",
       "3         Unkown         mon        May            w2   492085.0   \n",
       "4  United States         wed  September            w2  4361461.0   \n",
       "\n",
       "  day_of_week_sign month_sign week_of_month_sign  \n",
       "0              tue   February                 w5  \n",
       "1              sun       June                 w1  \n",
       "2              thu    January                 w1  \n",
       "3              tue      April                 w5  \n",
       "4              tue       July                 w4  "
      ]
     },
     "execution_count": 277,
     "metadata": {},
     "output_type": "execute_result"
    }
   ],
   "source": [
    "dataset.head()"
   ]
  },
  {
   "cell_type": "markdown",
   "metadata": {},
   "source": [
    "## time management"
   ]
  },
  {
   "cell_type": "code",
   "execution_count": 278,
   "metadata": {},
   "outputs": [],
   "source": [
    "date_sign_up=pd.to_datetime(dataset.signup_time)\n",
    "date_purchase=pd.to_datetime(dataset.purchase_time)"
   ]
  },
  {
   "cell_type": "code",
   "execution_count": 279,
   "metadata": {},
   "outputs": [],
   "source": [
    "def get_weekday(x):\n",
    "    t1=x.weekday()\n",
    "    if t1==0:\n",
    "        res='mon'\n",
    "    elif t1==1:\n",
    "        res='tue'\n",
    "    elif t1==2:\n",
    "        res='wed'    \n",
    "    elif t1==3:\n",
    "        res='thu' \n",
    "    elif t1==4:\n",
    "        res='fri' \n",
    "    elif t1==5:\n",
    "        res='sat'\n",
    "    elif t1==6:\n",
    "        res='sun'  \n",
    "    return res       \n",
    "        "
   ]
  },
  {
   "cell_type": "code",
   "execution_count": 280,
   "metadata": {},
   "outputs": [],
   "source": [
    "dataset['day_of_week']=date_purchase"
   ]
  },
  {
   "cell_type": "code",
   "execution_count": 281,
   "metadata": {},
   "outputs": [],
   "source": [
    "dataset['day_of_week']=dataset.day_of_week.apply(lambda x:get_weekday(x))"
   ]
  },
  {
   "cell_type": "code",
   "execution_count": 282,
   "metadata": {},
   "outputs": [],
   "source": [
    "dataset['day_of_week_sign']=date_sign_up"
   ]
  },
  {
   "cell_type": "code",
   "execution_count": 283,
   "metadata": {},
   "outputs": [],
   "source": [
    "dataset['day_of_week_sign']=dataset.day_of_week_sign.apply(lambda x:get_weekday(x))"
   ]
  },
  {
   "cell_type": "code",
   "execution_count": 284,
   "metadata": {},
   "outputs": [],
   "source": [
    "dataset['month']=date_purchase\n",
    "dataset['month']=dataset['month'].dt.month_name()"
   ]
  },
  {
   "cell_type": "code",
   "execution_count": 285,
   "metadata": {},
   "outputs": [],
   "source": [
    "dataset['month_sign']=date_sign_up\n",
    "dataset['month_sign']=dataset['month_sign'].dt.month_name()"
   ]
  },
  {
   "cell_type": "code",
   "execution_count": 286,
   "metadata": {
    "scrolled": true
   },
   "outputs": [],
   "source": [
    "import pendulum\n"
   ]
  },
  {
   "cell_type": "code",
   "execution_count": 287,
   "metadata": {},
   "outputs": [],
   "source": [
    "def get_week_of_month(w):\n",
    "    d=w.date().isoformat()\n",
    "    dt = pendulum.parse(d)\n",
    "    return str(dt.week_of_month)\n",
    "    "
   ]
  },
  {
   "cell_type": "code",
   "execution_count": 288,
   "metadata": {},
   "outputs": [],
   "source": [
    "dataset['week_of_month']=date_purchase"
   ]
  },
  {
   "cell_type": "code",
   "execution_count": 289,
   "metadata": {},
   "outputs": [],
   "source": [
    "dataset['week_of_month']=dataset.week_of_month.apply(lambda x:'w'+get_week_of_month(x))"
   ]
  },
  {
   "cell_type": "code",
   "execution_count": 290,
   "metadata": {},
   "outputs": [],
   "source": [
    "dataset['week_of_month_sign']=date_sign_up"
   ]
  },
  {
   "cell_type": "code",
   "execution_count": 291,
   "metadata": {},
   "outputs": [],
   "source": [
    "dataset['week_of_month_sign']=dataset.week_of_month_sign.apply(lambda x:'w'+get_week_of_month(x))"
   ]
  },
  {
   "cell_type": "code",
   "execution_count": 380,
   "metadata": {},
   "outputs": [],
   "source": [
    "#Time difference between sign-up time and purchase time\n",
    "tdelta=(date_purchase-date_sign_up).dt.total_seconds()/86400"
   ]
  },
  {
   "cell_type": "code",
   "execution_count": 381,
   "metadata": {},
   "outputs": [
    {
     "data": {
      "text/plain": [
       "86400"
      ]
     },
     "execution_count": 381,
     "metadata": {},
     "output_type": "execute_result"
    }
   ],
   "source": [
    "60*60*24"
   ]
  },
  {
   "cell_type": "code",
   "execution_count": 382,
   "metadata": {},
   "outputs": [],
   "source": [
    "dataset['tdelta']=tdelta"
   ]
  },
  {
   "cell_type": "code",
   "execution_count": 383,
   "metadata": {
    "scrolled": true
   },
   "outputs": [
    {
     "data": {
      "text/html": [
       "<div>\n",
       "<style scoped>\n",
       "    .dataframe tbody tr th:only-of-type {\n",
       "        vertical-align: middle;\n",
       "    }\n",
       "\n",
       "    .dataframe tbody tr th {\n",
       "        vertical-align: top;\n",
       "    }\n",
       "\n",
       "    .dataframe thead th {\n",
       "        text-align: right;\n",
       "    }\n",
       "</style>\n",
       "<table border=\"1\" class=\"dataframe\">\n",
       "  <thead>\n",
       "    <tr style=\"text-align: right;\">\n",
       "      <th></th>\n",
       "      <th>user_id</th>\n",
       "      <th>signup_time</th>\n",
       "      <th>purchase_time</th>\n",
       "      <th>purchase_value</th>\n",
       "      <th>device_id</th>\n",
       "      <th>source</th>\n",
       "      <th>browser</th>\n",
       "      <th>sex</th>\n",
       "      <th>age</th>\n",
       "      <th>ip_address</th>\n",
       "      <th>class</th>\n",
       "      <th>country</th>\n",
       "      <th>country2</th>\n",
       "      <th>day_of_week</th>\n",
       "      <th>month</th>\n",
       "      <th>week_of_month</th>\n",
       "      <th>tdelta</th>\n",
       "      <th>day_of_week_sign</th>\n",
       "      <th>month_sign</th>\n",
       "      <th>week_of_month_sign</th>\n",
       "    </tr>\n",
       "  </thead>\n",
       "  <tbody>\n",
       "    <tr>\n",
       "      <th>0</th>\n",
       "      <td>22058</td>\n",
       "      <td>2015-02-24 22:55:49</td>\n",
       "      <td>2015-04-18 02:47:11</td>\n",
       "      <td>34</td>\n",
       "      <td>QVPSPJUOCKZAR</td>\n",
       "      <td>SEO</td>\n",
       "      <td>Chrome</td>\n",
       "      <td>M</td>\n",
       "      <td>39</td>\n",
       "      <td>7.327584e+08</td>\n",
       "      <td>0</td>\n",
       "      <td>Japan</td>\n",
       "      <td>Japan</td>\n",
       "      <td>sat</td>\n",
       "      <td>April</td>\n",
       "      <td>w3</td>\n",
       "      <td>52.160671</td>\n",
       "      <td>tue</td>\n",
       "      <td>February</td>\n",
       "      <td>w5</td>\n",
       "    </tr>\n",
       "    <tr>\n",
       "      <th>1</th>\n",
       "      <td>333320</td>\n",
       "      <td>2015-06-07 20:39:50</td>\n",
       "      <td>2015-06-08 01:38:54</td>\n",
       "      <td>16</td>\n",
       "      <td>EOGFQPIZPYXFZ</td>\n",
       "      <td>Ads</td>\n",
       "      <td>Chrome</td>\n",
       "      <td>F</td>\n",
       "      <td>53</td>\n",
       "      <td>3.503114e+08</td>\n",
       "      <td>0</td>\n",
       "      <td>United States</td>\n",
       "      <td>United States</td>\n",
       "      <td>mon</td>\n",
       "      <td>June</td>\n",
       "      <td>w2</td>\n",
       "      <td>0.207685</td>\n",
       "      <td>sun</td>\n",
       "      <td>June</td>\n",
       "      <td>w1</td>\n",
       "    </tr>\n",
       "    <tr>\n",
       "      <th>2</th>\n",
       "      <td>1359</td>\n",
       "      <td>2015-01-01 18:52:44</td>\n",
       "      <td>2015-01-01 18:52:45</td>\n",
       "      <td>15</td>\n",
       "      <td>YSSKYOSJHPPLJ</td>\n",
       "      <td>SEO</td>\n",
       "      <td>Opera</td>\n",
       "      <td>M</td>\n",
       "      <td>53</td>\n",
       "      <td>2.621474e+09</td>\n",
       "      <td>1</td>\n",
       "      <td>United States</td>\n",
       "      <td>United States</td>\n",
       "      <td>thu</td>\n",
       "      <td>January</td>\n",
       "      <td>w1</td>\n",
       "      <td>0.000012</td>\n",
       "      <td>thu</td>\n",
       "      <td>January</td>\n",
       "      <td>w1</td>\n",
       "    </tr>\n",
       "    <tr>\n",
       "      <th>3</th>\n",
       "      <td>150084</td>\n",
       "      <td>2015-04-28 21:13:25</td>\n",
       "      <td>2015-05-04 13:54:50</td>\n",
       "      <td>44</td>\n",
       "      <td>ATGTXKYKUDUQN</td>\n",
       "      <td>SEO</td>\n",
       "      <td>Safari</td>\n",
       "      <td>M</td>\n",
       "      <td>41</td>\n",
       "      <td>3.840542e+09</td>\n",
       "      <td>0</td>\n",
       "      <td>Unkown</td>\n",
       "      <td>Unkown</td>\n",
       "      <td>mon</td>\n",
       "      <td>May</td>\n",
       "      <td>w2</td>\n",
       "      <td>5.695428</td>\n",
       "      <td>tue</td>\n",
       "      <td>April</td>\n",
       "      <td>w5</td>\n",
       "    </tr>\n",
       "    <tr>\n",
       "      <th>4</th>\n",
       "      <td>221365</td>\n",
       "      <td>2015-07-21 07:09:52</td>\n",
       "      <td>2015-09-09 18:40:53</td>\n",
       "      <td>39</td>\n",
       "      <td>NAUITBZFJKHWW</td>\n",
       "      <td>Ads</td>\n",
       "      <td>Safari</td>\n",
       "      <td>M</td>\n",
       "      <td>45</td>\n",
       "      <td>4.155831e+08</td>\n",
       "      <td>0</td>\n",
       "      <td>United States</td>\n",
       "      <td>United States</td>\n",
       "      <td>wed</td>\n",
       "      <td>September</td>\n",
       "      <td>w2</td>\n",
       "      <td>50.479873</td>\n",
       "      <td>tue</td>\n",
       "      <td>July</td>\n",
       "      <td>w4</td>\n",
       "    </tr>\n",
       "  </tbody>\n",
       "</table>\n",
       "</div>"
      ],
      "text/plain": [
       "   user_id          signup_time        purchase_time  purchase_value  \\\n",
       "0    22058  2015-02-24 22:55:49  2015-04-18 02:47:11              34   \n",
       "1   333320  2015-06-07 20:39:50  2015-06-08 01:38:54              16   \n",
       "2     1359  2015-01-01 18:52:44  2015-01-01 18:52:45              15   \n",
       "3   150084  2015-04-28 21:13:25  2015-05-04 13:54:50              44   \n",
       "4   221365  2015-07-21 07:09:52  2015-09-09 18:40:53              39   \n",
       "\n",
       "       device_id source browser sex  age    ip_address  class        country  \\\n",
       "0  QVPSPJUOCKZAR    SEO  Chrome   M   39  7.327584e+08      0          Japan   \n",
       "1  EOGFQPIZPYXFZ    Ads  Chrome   F   53  3.503114e+08      0  United States   \n",
       "2  YSSKYOSJHPPLJ    SEO   Opera   M   53  2.621474e+09      1  United States   \n",
       "3  ATGTXKYKUDUQN    SEO  Safari   M   41  3.840542e+09      0         Unkown   \n",
       "4  NAUITBZFJKHWW    Ads  Safari   M   45  4.155831e+08      0  United States   \n",
       "\n",
       "        country2 day_of_week      month week_of_month     tdelta  \\\n",
       "0          Japan         sat      April            w3  52.160671   \n",
       "1  United States         mon       June            w2   0.207685   \n",
       "2  United States         thu    January            w1   0.000012   \n",
       "3         Unkown         mon        May            w2   5.695428   \n",
       "4  United States         wed  September            w2  50.479873   \n",
       "\n",
       "  day_of_week_sign month_sign week_of_month_sign  \n",
       "0              tue   February                 w5  \n",
       "1              sun       June                 w1  \n",
       "2              thu    January                 w1  \n",
       "3              tue      April                 w5  \n",
       "4              tue       July                 w4  "
      ]
     },
     "execution_count": 383,
     "metadata": {},
     "output_type": "execute_result"
    }
   ],
   "source": [
    "dataset.head()"
   ]
  },
  {
   "cell_type": "markdown",
   "metadata": {},
   "source": [
    "*If the device id is unique or certain users are sharing the same device (many different user ids using the same device could be an indicator of fake accounts)*"
   ]
  },
  {
   "cell_type": "code",
   "execution_count": 384,
   "metadata": {
    "scrolled": false
   },
   "outputs": [
    {
     "data": {
      "text/html": [
       "<div>\n",
       "<style scoped>\n",
       "    .dataframe tbody tr th:only-of-type {\n",
       "        vertical-align: middle;\n",
       "    }\n",
       "\n",
       "    .dataframe tbody tr th {\n",
       "        vertical-align: top;\n",
       "    }\n",
       "\n",
       "    .dataframe thead th {\n",
       "        text-align: right;\n",
       "    }\n",
       "</style>\n",
       "<table border=\"1\" class=\"dataframe\">\n",
       "  <thead>\n",
       "    <tr style=\"text-align: right;\">\n",
       "      <th></th>\n",
       "      <th>device_id</th>\n",
       "      <th>nb_id_used</th>\n",
       "    </tr>\n",
       "  </thead>\n",
       "  <tbody>\n",
       "    <tr>\n",
       "      <th>0</th>\n",
       "      <td>AAALBGNHHVMKG</td>\n",
       "      <td>1</td>\n",
       "    </tr>\n",
       "    <tr>\n",
       "      <th>1</th>\n",
       "      <td>AAAWIHVCQELTP</td>\n",
       "      <td>1</td>\n",
       "    </tr>\n",
       "    <tr>\n",
       "      <th>2</th>\n",
       "      <td>AAAXJHWCLISKY</td>\n",
       "      <td>1</td>\n",
       "    </tr>\n",
       "    <tr>\n",
       "      <th>3</th>\n",
       "      <td>AAAXXOZJRZRAO</td>\n",
       "      <td>11</td>\n",
       "    </tr>\n",
       "    <tr>\n",
       "      <th>4</th>\n",
       "      <td>AABFGRPBQHWFQ</td>\n",
       "      <td>1</td>\n",
       "    </tr>\n",
       "  </tbody>\n",
       "</table>\n",
       "</div>"
      ],
      "text/plain": [
       "       device_id  nb_id_used\n",
       "0  AAALBGNHHVMKG           1\n",
       "1  AAAWIHVCQELTP           1\n",
       "2  AAAXJHWCLISKY           1\n",
       "3  AAAXXOZJRZRAO          11\n",
       "4  AABFGRPBQHWFQ           1"
      ]
     },
     "execution_count": 384,
     "metadata": {},
     "output_type": "execute_result"
    }
   ],
   "source": [
    "device_num = dataset[['user_id', 'device_id']].groupby('device_id').count().reset_index()\n",
    "device_num = device_num.rename(columns={'user_id': 'nb_id_used'})\n",
    "device_num.head()"
   ]
  },
  {
   "cell_type": "code",
   "execution_count": 385,
   "metadata": {},
   "outputs": [],
   "source": [
    "data2 = dataset.merge(device_num, how='left', on='device_id')"
   ]
  },
  {
   "cell_type": "code",
   "execution_count": 386,
   "metadata": {},
   "outputs": [
    {
     "data": {
      "text/html": [
       "<div>\n",
       "<style scoped>\n",
       "    .dataframe tbody tr th:only-of-type {\n",
       "        vertical-align: middle;\n",
       "    }\n",
       "\n",
       "    .dataframe tbody tr th {\n",
       "        vertical-align: top;\n",
       "    }\n",
       "\n",
       "    .dataframe thead th {\n",
       "        text-align: right;\n",
       "    }\n",
       "</style>\n",
       "<table border=\"1\" class=\"dataframe\">\n",
       "  <thead>\n",
       "    <tr style=\"text-align: right;\">\n",
       "      <th></th>\n",
       "      <th>user_id</th>\n",
       "      <th>signup_time</th>\n",
       "      <th>purchase_time</th>\n",
       "      <th>purchase_value</th>\n",
       "      <th>device_id</th>\n",
       "      <th>source</th>\n",
       "      <th>browser</th>\n",
       "      <th>sex</th>\n",
       "      <th>age</th>\n",
       "      <th>ip_address</th>\n",
       "      <th>...</th>\n",
       "      <th>country</th>\n",
       "      <th>country2</th>\n",
       "      <th>day_of_week</th>\n",
       "      <th>month</th>\n",
       "      <th>week_of_month</th>\n",
       "      <th>tdelta</th>\n",
       "      <th>day_of_week_sign</th>\n",
       "      <th>month_sign</th>\n",
       "      <th>week_of_month_sign</th>\n",
       "      <th>nb_id_used</th>\n",
       "    </tr>\n",
       "  </thead>\n",
       "  <tbody>\n",
       "    <tr>\n",
       "      <th>0</th>\n",
       "      <td>22058</td>\n",
       "      <td>2015-02-24 22:55:49</td>\n",
       "      <td>2015-04-18 02:47:11</td>\n",
       "      <td>34</td>\n",
       "      <td>QVPSPJUOCKZAR</td>\n",
       "      <td>SEO</td>\n",
       "      <td>Chrome</td>\n",
       "      <td>M</td>\n",
       "      <td>39</td>\n",
       "      <td>7.327584e+08</td>\n",
       "      <td>...</td>\n",
       "      <td>Japan</td>\n",
       "      <td>Japan</td>\n",
       "      <td>sat</td>\n",
       "      <td>April</td>\n",
       "      <td>w3</td>\n",
       "      <td>52.160671</td>\n",
       "      <td>tue</td>\n",
       "      <td>February</td>\n",
       "      <td>w5</td>\n",
       "      <td>1</td>\n",
       "    </tr>\n",
       "    <tr>\n",
       "      <th>1</th>\n",
       "      <td>333320</td>\n",
       "      <td>2015-06-07 20:39:50</td>\n",
       "      <td>2015-06-08 01:38:54</td>\n",
       "      <td>16</td>\n",
       "      <td>EOGFQPIZPYXFZ</td>\n",
       "      <td>Ads</td>\n",
       "      <td>Chrome</td>\n",
       "      <td>F</td>\n",
       "      <td>53</td>\n",
       "      <td>3.503114e+08</td>\n",
       "      <td>...</td>\n",
       "      <td>United States</td>\n",
       "      <td>United States</td>\n",
       "      <td>mon</td>\n",
       "      <td>June</td>\n",
       "      <td>w2</td>\n",
       "      <td>0.207685</td>\n",
       "      <td>sun</td>\n",
       "      <td>June</td>\n",
       "      <td>w1</td>\n",
       "      <td>1</td>\n",
       "    </tr>\n",
       "    <tr>\n",
       "      <th>2</th>\n",
       "      <td>1359</td>\n",
       "      <td>2015-01-01 18:52:44</td>\n",
       "      <td>2015-01-01 18:52:45</td>\n",
       "      <td>15</td>\n",
       "      <td>YSSKYOSJHPPLJ</td>\n",
       "      <td>SEO</td>\n",
       "      <td>Opera</td>\n",
       "      <td>M</td>\n",
       "      <td>53</td>\n",
       "      <td>2.621474e+09</td>\n",
       "      <td>...</td>\n",
       "      <td>United States</td>\n",
       "      <td>United States</td>\n",
       "      <td>thu</td>\n",
       "      <td>January</td>\n",
       "      <td>w1</td>\n",
       "      <td>0.000012</td>\n",
       "      <td>thu</td>\n",
       "      <td>January</td>\n",
       "      <td>w1</td>\n",
       "      <td>12</td>\n",
       "    </tr>\n",
       "    <tr>\n",
       "      <th>3</th>\n",
       "      <td>150084</td>\n",
       "      <td>2015-04-28 21:13:25</td>\n",
       "      <td>2015-05-04 13:54:50</td>\n",
       "      <td>44</td>\n",
       "      <td>ATGTXKYKUDUQN</td>\n",
       "      <td>SEO</td>\n",
       "      <td>Safari</td>\n",
       "      <td>M</td>\n",
       "      <td>41</td>\n",
       "      <td>3.840542e+09</td>\n",
       "      <td>...</td>\n",
       "      <td>Unkown</td>\n",
       "      <td>Unkown</td>\n",
       "      <td>mon</td>\n",
       "      <td>May</td>\n",
       "      <td>w2</td>\n",
       "      <td>5.695428</td>\n",
       "      <td>tue</td>\n",
       "      <td>April</td>\n",
       "      <td>w5</td>\n",
       "      <td>1</td>\n",
       "    </tr>\n",
       "    <tr>\n",
       "      <th>4</th>\n",
       "      <td>221365</td>\n",
       "      <td>2015-07-21 07:09:52</td>\n",
       "      <td>2015-09-09 18:40:53</td>\n",
       "      <td>39</td>\n",
       "      <td>NAUITBZFJKHWW</td>\n",
       "      <td>Ads</td>\n",
       "      <td>Safari</td>\n",
       "      <td>M</td>\n",
       "      <td>45</td>\n",
       "      <td>4.155831e+08</td>\n",
       "      <td>...</td>\n",
       "      <td>United States</td>\n",
       "      <td>United States</td>\n",
       "      <td>wed</td>\n",
       "      <td>September</td>\n",
       "      <td>w2</td>\n",
       "      <td>50.479873</td>\n",
       "      <td>tue</td>\n",
       "      <td>July</td>\n",
       "      <td>w4</td>\n",
       "      <td>1</td>\n",
       "    </tr>\n",
       "  </tbody>\n",
       "</table>\n",
       "<p>5 rows × 21 columns</p>\n",
       "</div>"
      ],
      "text/plain": [
       "   user_id          signup_time        purchase_time  purchase_value  \\\n",
       "0    22058  2015-02-24 22:55:49  2015-04-18 02:47:11              34   \n",
       "1   333320  2015-06-07 20:39:50  2015-06-08 01:38:54              16   \n",
       "2     1359  2015-01-01 18:52:44  2015-01-01 18:52:45              15   \n",
       "3   150084  2015-04-28 21:13:25  2015-05-04 13:54:50              44   \n",
       "4   221365  2015-07-21 07:09:52  2015-09-09 18:40:53              39   \n",
       "\n",
       "       device_id source browser sex  age    ip_address  ...        country  \\\n",
       "0  QVPSPJUOCKZAR    SEO  Chrome   M   39  7.327584e+08  ...          Japan   \n",
       "1  EOGFQPIZPYXFZ    Ads  Chrome   F   53  3.503114e+08  ...  United States   \n",
       "2  YSSKYOSJHPPLJ    SEO   Opera   M   53  2.621474e+09  ...  United States   \n",
       "3  ATGTXKYKUDUQN    SEO  Safari   M   41  3.840542e+09  ...         Unkown   \n",
       "4  NAUITBZFJKHWW    Ads  Safari   M   45  4.155831e+08  ...  United States   \n",
       "\n",
       "        country2 day_of_week      month week_of_month     tdelta  \\\n",
       "0          Japan         sat      April            w3  52.160671   \n",
       "1  United States         mon       June            w2   0.207685   \n",
       "2  United States         thu    January            w1   0.000012   \n",
       "3         Unkown         mon        May            w2   5.695428   \n",
       "4  United States         wed  September            w2  50.479873   \n",
       "\n",
       "   day_of_week_sign month_sign week_of_month_sign nb_id_used  \n",
       "0               tue   February                 w5          1  \n",
       "1               sun       June                 w1          1  \n",
       "2               thu    January                 w1         12  \n",
       "3               tue      April                 w5          1  \n",
       "4               tue       July                 w4          1  \n",
       "\n",
       "[5 rows x 21 columns]"
      ]
     },
     "execution_count": 386,
     "metadata": {},
     "output_type": "execute_result"
    }
   ],
   "source": [
    "data2.head()"
   ]
  },
  {
   "cell_type": "code",
   "execution_count": 387,
   "metadata": {},
   "outputs": [],
   "source": [
    "data2['hour_of_day']=date_purchase"
   ]
  },
  {
   "cell_type": "code",
   "execution_count": 388,
   "metadata": {},
   "outputs": [],
   "source": [
    "data2['hour_of_day']=data2['hour_of_day'].dt.hour"
   ]
  },
  {
   "cell_type": "code",
   "execution_count": 389,
   "metadata": {},
   "outputs": [],
   "source": [
    "data2['hour_of_day_sign']=date_sign_up"
   ]
  },
  {
   "cell_type": "code",
   "execution_count": 390,
   "metadata": {},
   "outputs": [],
   "source": [
    "data2['hour_of_day_sign']=data2['hour_of_day_sign'].dt.hour"
   ]
  },
  {
   "cell_type": "code",
   "execution_count": 391,
   "metadata": {},
   "outputs": [],
   "source": [
    "datafi=data2.drop(['user_id', 'signup_time','purchase_time','device_id','ip_address','country'], axis=1)"
   ]
  },
  {
   "cell_type": "code",
   "execution_count": 392,
   "metadata": {},
   "outputs": [
    {
     "data": {
      "text/html": [
       "<div>\n",
       "<style scoped>\n",
       "    .dataframe tbody tr th:only-of-type {\n",
       "        vertical-align: middle;\n",
       "    }\n",
       "\n",
       "    .dataframe tbody tr th {\n",
       "        vertical-align: top;\n",
       "    }\n",
       "\n",
       "    .dataframe thead th {\n",
       "        text-align: right;\n",
       "    }\n",
       "</style>\n",
       "<table border=\"1\" class=\"dataframe\">\n",
       "  <thead>\n",
       "    <tr style=\"text-align: right;\">\n",
       "      <th></th>\n",
       "      <th>purchase_value</th>\n",
       "      <th>source</th>\n",
       "      <th>browser</th>\n",
       "      <th>sex</th>\n",
       "      <th>age</th>\n",
       "      <th>class</th>\n",
       "      <th>country2</th>\n",
       "      <th>day_of_week</th>\n",
       "      <th>month</th>\n",
       "      <th>week_of_month</th>\n",
       "      <th>tdelta</th>\n",
       "      <th>day_of_week_sign</th>\n",
       "      <th>month_sign</th>\n",
       "      <th>week_of_month_sign</th>\n",
       "      <th>nb_id_used</th>\n",
       "      <th>hour_of_day</th>\n",
       "      <th>hour_of_day_sign</th>\n",
       "    </tr>\n",
       "  </thead>\n",
       "  <tbody>\n",
       "    <tr>\n",
       "      <th>0</th>\n",
       "      <td>34</td>\n",
       "      <td>SEO</td>\n",
       "      <td>Chrome</td>\n",
       "      <td>M</td>\n",
       "      <td>39</td>\n",
       "      <td>0</td>\n",
       "      <td>Japan</td>\n",
       "      <td>sat</td>\n",
       "      <td>April</td>\n",
       "      <td>w3</td>\n",
       "      <td>52.160671</td>\n",
       "      <td>tue</td>\n",
       "      <td>February</td>\n",
       "      <td>w5</td>\n",
       "      <td>1</td>\n",
       "      <td>2</td>\n",
       "      <td>22</td>\n",
       "    </tr>\n",
       "    <tr>\n",
       "      <th>1</th>\n",
       "      <td>16</td>\n",
       "      <td>Ads</td>\n",
       "      <td>Chrome</td>\n",
       "      <td>F</td>\n",
       "      <td>53</td>\n",
       "      <td>0</td>\n",
       "      <td>United States</td>\n",
       "      <td>mon</td>\n",
       "      <td>June</td>\n",
       "      <td>w2</td>\n",
       "      <td>0.207685</td>\n",
       "      <td>sun</td>\n",
       "      <td>June</td>\n",
       "      <td>w1</td>\n",
       "      <td>1</td>\n",
       "      <td>1</td>\n",
       "      <td>20</td>\n",
       "    </tr>\n",
       "    <tr>\n",
       "      <th>2</th>\n",
       "      <td>15</td>\n",
       "      <td>SEO</td>\n",
       "      <td>Opera</td>\n",
       "      <td>M</td>\n",
       "      <td>53</td>\n",
       "      <td>1</td>\n",
       "      <td>United States</td>\n",
       "      <td>thu</td>\n",
       "      <td>January</td>\n",
       "      <td>w1</td>\n",
       "      <td>0.000012</td>\n",
       "      <td>thu</td>\n",
       "      <td>January</td>\n",
       "      <td>w1</td>\n",
       "      <td>12</td>\n",
       "      <td>18</td>\n",
       "      <td>18</td>\n",
       "    </tr>\n",
       "    <tr>\n",
       "      <th>3</th>\n",
       "      <td>44</td>\n",
       "      <td>SEO</td>\n",
       "      <td>Safari</td>\n",
       "      <td>M</td>\n",
       "      <td>41</td>\n",
       "      <td>0</td>\n",
       "      <td>Unkown</td>\n",
       "      <td>mon</td>\n",
       "      <td>May</td>\n",
       "      <td>w2</td>\n",
       "      <td>5.695428</td>\n",
       "      <td>tue</td>\n",
       "      <td>April</td>\n",
       "      <td>w5</td>\n",
       "      <td>1</td>\n",
       "      <td>13</td>\n",
       "      <td>21</td>\n",
       "    </tr>\n",
       "    <tr>\n",
       "      <th>4</th>\n",
       "      <td>39</td>\n",
       "      <td>Ads</td>\n",
       "      <td>Safari</td>\n",
       "      <td>M</td>\n",
       "      <td>45</td>\n",
       "      <td>0</td>\n",
       "      <td>United States</td>\n",
       "      <td>wed</td>\n",
       "      <td>September</td>\n",
       "      <td>w2</td>\n",
       "      <td>50.479873</td>\n",
       "      <td>tue</td>\n",
       "      <td>July</td>\n",
       "      <td>w4</td>\n",
       "      <td>1</td>\n",
       "      <td>18</td>\n",
       "      <td>7</td>\n",
       "    </tr>\n",
       "  </tbody>\n",
       "</table>\n",
       "</div>"
      ],
      "text/plain": [
       "   purchase_value source browser sex  age  class       country2 day_of_week  \\\n",
       "0              34    SEO  Chrome   M   39      0          Japan         sat   \n",
       "1              16    Ads  Chrome   F   53      0  United States         mon   \n",
       "2              15    SEO   Opera   M   53      1  United States         thu   \n",
       "3              44    SEO  Safari   M   41      0         Unkown         mon   \n",
       "4              39    Ads  Safari   M   45      0  United States         wed   \n",
       "\n",
       "       month week_of_month     tdelta day_of_week_sign month_sign  \\\n",
       "0      April            w3  52.160671              tue   February   \n",
       "1       June            w2   0.207685              sun       June   \n",
       "2    January            w1   0.000012              thu    January   \n",
       "3        May            w2   5.695428              tue      April   \n",
       "4  September            w2  50.479873              tue       July   \n",
       "\n",
       "  week_of_month_sign  nb_id_used  hour_of_day  hour_of_day_sign  \n",
       "0                 w5           1            2                22  \n",
       "1                 w1           1            1                20  \n",
       "2                 w1          12           18                18  \n",
       "3                 w5           1           13                21  \n",
       "4                 w4           1           18                 7  "
      ]
     },
     "execution_count": 392,
     "metadata": {},
     "output_type": "execute_result"
    }
   ],
   "source": [
    "datafi.head()"
   ]
  },
  {
   "cell_type": "code",
   "execution_count": 393,
   "metadata": {},
   "outputs": [
    {
     "data": {
      "text/plain": [
       "False"
      ]
     },
     "execution_count": 393,
     "metadata": {},
     "output_type": "execute_result"
    }
   ],
   "source": [
    "datafi.isna().values.any()"
   ]
  },
  {
   "cell_type": "markdown",
   "metadata": {},
   "source": [
    "## Modelization\n"
   ]
  },
  {
   "cell_type": "code",
   "execution_count": 607,
   "metadata": {},
   "outputs": [
    {
     "data": {
      "text/plain": [
       "Index(['purchase_value', 'source', 'browser', 'sex', 'age', 'class',\n",
       "       'country2', 'day_of_week', 'month', 'week_of_month', 'tdelta',\n",
       "       'day_of_week_sign', 'month_sign', 'week_of_month_sign', 'nb_id_used',\n",
       "       'hour_of_day', 'hour_of_day_sign'],\n",
       "      dtype='object')"
      ]
     },
     "execution_count": 607,
     "metadata": {},
     "output_type": "execute_result"
    }
   ],
   "source": [
    "col=datafi.columns\n",
    "col"
   ]
  },
  {
   "cell_type": "code",
   "execution_count": 608,
   "metadata": {},
   "outputs": [
    {
     "data": {
      "text/plain": [
       "Index(['purchase_value', 'country2', 'day_of_week', 'tdelta',\n",
       "       'day_of_week_sign', 'month_sign', 'nb_id_used', 'hour_of_day',\n",
       "       'hour_of_day_sign'],\n",
       "      dtype='object')"
      ]
     },
     "execution_count": 608,
     "metadata": {},
     "output_type": "execute_result"
    }
   ],
   "source": [
    "col=col.drop(['class','browser','age','sex','source','month','week_of_month_sign','week_of_month'])\n",
    "col"
   ]
  },
  {
   "cell_type": "code",
   "execution_count": 609,
   "metadata": {},
   "outputs": [],
   "source": [
    "features_list = col\n",
    "target_variable = 'class'\n"
   ]
  },
  {
   "cell_type": "code",
   "execution_count": 610,
   "metadata": {},
   "outputs": [
    {
     "name": "stdout",
     "output_type": "stream",
     "text": [
      "Variables explicatives :  Index(['purchase_value', 'country2', 'day_of_week', 'tdelta',\n",
      "       'day_of_week_sign', 'month_sign', 'nb_id_used', 'hour_of_day',\n",
      "       'hour_of_day_sign'],\n",
      "      dtype='object')\n",
      "\n"
     ]
    }
   ],
   "source": [
    "X = datafi.loc[:, features_list]\n",
    "Y = datafi.loc[:, target_variable]\n",
    "\n",
    "print('Variables explicatives : ', X.columns)\n",
    "print()"
   ]
  },
  {
   "cell_type": "code",
   "execution_count": 611,
   "metadata": {},
   "outputs": [
    {
     "name": "stdout",
     "output_type": "stream",
     "text": [
      "Found numeric features  ['purchase_value', 'tdelta', 'nb_id_used', 'hour_of_day', 'hour_of_day_sign']  at positions  [0, 3, 6, 7, 8]\n",
      "Found categorical features  ['country2', 'day_of_week', 'day_of_week_sign', 'month_sign']  at positions  [1, 2, 4, 5]\n"
     ]
    }
   ],
   "source": [
    "idx = 0\n",
    "numeric_features = []\n",
    "numeric_indices = []\n",
    "categorical_features = []\n",
    "categorical_indices = []\n",
    "for i,t in X.dtypes.iteritems():\n",
    "  if ('float' in str(t)) or ('int' in str(t)) :\n",
    "    numeric_features.append(i)\n",
    "    numeric_indices.append(idx)\n",
    "  else :\n",
    "    categorical_features.append(i)\n",
    "    categorical_indices.append(idx)\n",
    "\n",
    "  idx = idx + 1\n",
    "\n",
    "print('Found numeric features ', numeric_features,' at positions ', numeric_indices)\n",
    "print('Found categorical features ', categorical_features,' at positions ', categorical_indices)\n"
   ]
  },
  {
   "cell_type": "code",
   "execution_count": 612,
   "metadata": {},
   "outputs": [
    {
     "name": "stdout",
     "output_type": "stream",
     "text": [
      "Dividing into train and test sets...\n",
      "...Done.\n",
      "\n"
     ]
    }
   ],
   "source": [
    "# Divide dataset Train set & Test set \n",
    "print(\"Dividing into train and test sets...\")\n",
    "X_train, X_test, Y_train, Y_test = train_test_split(X, Y, test_size=0.4, random_state=42,stratify=Y)\n",
    "print(\"...Done.\")\n",
    "print()"
   ]
  },
  {
   "cell_type": "code",
   "execution_count": 613,
   "metadata": {},
   "outputs": [
    {
     "name": "stdout",
     "output_type": "stream",
     "text": [
      "Convert pandas DataFrames to numpy arrays...\n",
      "...Done\n",
      "[[31 'France' 'tue' 2.2188773148148146 'sun' 'March' 1 12 7]\n",
      " [63 'Viet Nam' 'tue' 74.0587962962963 'fri' 'February' 1 13 11]\n",
      " [30 'Australia' 'wed' 67.2835300925926 'sat' 'April' 1 16 10]\n",
      " [42 'United States' 'wed' 91.49304398148149 'wed' 'April' 1 13 1]\n",
      " [34 'United States' 'sun' 78.4929050925926 'fri' 'June' 1 5 17]]\n",
      "[[18 'Japan' 'mon' 70.58664351851851 'sun' 'June' 1 3 13]\n",
      " [59 'France' 'sun' 110.36195601851851 'tue' 'June' 1 15 7]]\n",
      "\n",
      "[0 0 0 0 0]\n",
      "[0 0]\n"
     ]
    }
   ],
   "source": [
    "# Convert pandas DataFrames to numpy arrays before using scikit-learn\n",
    "print(\"Convert pandas DataFrames to numpy arrays...\")\n",
    "X_train = X_train.values\n",
    "X_test = X_test.values\n",
    "Y_train = Y_train.values\n",
    "Y_test = Y_test.values\n",
    "print(\"...Done\")\n",
    "\n",
    "print(X_train[0:5,:])\n",
    "print(X_test[0:2,:])\n",
    "print()\n",
    "print(Y_train[0:5])\n",
    "print(Y_test[0:2])"
   ]
  },
  {
   "cell_type": "code",
   "execution_count": 614,
   "metadata": {},
   "outputs": [
    {
     "name": "stdout",
     "output_type": "stream",
     "text": [
      "Encoding categorical features and standardizing numerical features...\n",
      "...Done\n",
      "  (0, 12)\t1.0\n",
      "  (0, 44)\t1.0\n",
      "  (0, 48)\t1.0\n",
      "  (0, 57)\t1.0\n",
      "  (0, 59)\t-0.32591940800140107\n",
      "  (0, 60)\t-1.5194668184591007\n",
      "  (0, 61)\t-0.26200651533242125\n",
      "  (0, 62)\t0.06843999279835387\n",
      "  (0, 63)\t-0.6479144684240955\n",
      "  (1, 39)\t1.0\n",
      "  (1, 44)\t1.0\n",
      "  (1, 53)\t1.0\n",
      "  (1, 59)\t1.4186993806756334\n",
      "  (1, 60)\t0.4649858108552383\n",
      "  (1, 61)\t-0.26200651533242125\n",
      "  (1, 62)\t0.21325664726049628\n",
      "  (1, 63)\t-0.06952312779718355\n",
      "  (2, 0)\t1.0\n",
      "  (2, 45)\t1.0\n",
      "  (2, 47)\t1.0\n",
      "  (2, 59)\t-0.3804387451475584\n",
      "  (2, 60)\t0.277830883304301\n",
      "  (2, 61)\t-0.26200651533242125\n",
      "  (2, 62)\t0.6477066106469235\n",
      "  (2, 63)\t-0.21412096295391156\n",
      "  (3, 37)\t1.0\n",
      "  (3, 45)\t1.0\n",
      "  (3, 51)\t1.0\n",
      "  (3, 59)\t0.27379330060632956\n",
      "  (3, 60)\t0.9465765357543232\n",
      "  (3, 61)\t-0.26200651533242125\n",
      "  (3, 62)\t0.21325664726049628\n",
      "  (3, 63)\t-1.5155014793644634\n",
      "  (4, 37)\t1.0\n",
      "  (4, 42)\t1.0\n",
      "  (4, 56)\t1.0\n",
      "  (4, 59)\t-0.16236139656292908\n",
      "  (4, 60)\t0.5874703429124677\n",
      "  (4, 61)\t-0.26200651533242125\n",
      "  (4, 62)\t-0.945276588436643\n",
      "  (4, 63)\t0.7980638831431844\n"
     ]
    }
   ],
   "source": [
    "# Put here all the preprocessings\n",
    "print(\"Encoding categorical features and standardizing numerical features...\")\n",
    "\n",
    "\n",
    "# Normalization\n",
    "numeric_transformer = StandardScaler()\n",
    "    \n",
    "# OHE / dummyfication\n",
    "categorical_transformer = OneHotEncoder(drop='first')\n",
    "featureencoder = ColumnTransformer(\n",
    "    transformers=[\n",
    "        ('cat', categorical_transformer, categorical_indices),    \n",
    "        ('num', numeric_transformer, numeric_indices)\n",
    "        ]    )\n",
    "\n",
    "X_train = featureencoder.fit_transform(X_train)\n",
    "\n",
    "print(\"...Done\")\n",
    "print(X_train[0:5,:])"
   ]
  },
  {
   "cell_type": "code",
   "execution_count": 615,
   "metadata": {},
   "outputs": [
    {
     "name": "stdout",
     "output_type": "stream",
     "text": [
      "...Done.\n"
     ]
    }
   ],
   "source": [
    "classifier = AdaBoostClassifier(base_estimator=RandomForestClassifier(max_depth=2))\n",
    "\n",
    "classifier.fit(X_train, Y_train)\n",
    "print(\"...Done.\")\n",
    "\n"
   ]
  },
  {
   "cell_type": "code",
   "execution_count": 616,
   "metadata": {},
   "outputs": [
    {
     "name": "stdout",
     "output_type": "stream",
     "text": [
      "Predictions on training set...\n",
      "...Done.\n",
      "[0 0 0 ... 0 0 0]\n",
      "\n"
     ]
    }
   ],
   "source": [
    "# Predictions on training set\n",
    "print(\"Predictions on training set...\")\n",
    "Y_train_pred = classifier.predict(X_train)\n",
    "print(\"...Done.\")\n",
    "print(Y_train_pred)\n",
    "print()"
   ]
  },
  {
   "cell_type": "code",
   "execution_count": 617,
   "metadata": {},
   "outputs": [
    {
     "name": "stdout",
     "output_type": "stream",
     "text": [
      "Encoding categorical features and standardizing numerical features...\n",
      "...Done\n",
      "  (0, 19)\t1.0\n",
      "  (0, 40)\t1.0\n",
      "  (0, 48)\t1.0\n",
      "  (0, 56)\t1.0\n",
      "  (0, 59)\t-1.0346707909014463\n",
      "  (0, 60)\t0.3690736382507794\n",
      "  (0, 61)\t-0.26200651533242125\n",
      "  (0, 62)\t-1.2349098973609278\n",
      "  (0, 63)\t0.21967254251627244\n",
      "  (1, 12)\t1.0\n",
      "  (1, 42)\t1.0\n",
      "  (1, 50)\t1.0\n",
      "  (1, 56)\t1.0\n",
      "  (1, 59)\t1.2006220320910042\n",
      "  (1, 60)\t1.4677973644394353\n",
      "  (1, 61)\t-0.26200651533242125\n",
      "  (1, 62)\t0.502889956184781\n",
      "  (1, 63)\t-0.6479144684240955\n",
      "  (2, 3)\t1.0\n",
      "  (2, 45)\t1.0\n",
      "  (2, 49)\t1.0\n",
      "  (2, 58)\t1.0\n",
      "  (2, 59)\t-0.980151453755289\n",
      "  (2, 60)\t-1.2192844882123206\n",
      "  (2, 61)\t-0.26200651533242125\n",
      "  (2, 62)\t1.0821565740333507\n",
      "  (2, 63)\t0.7980638831431844\n",
      "  (3, 37)\t1.0\n",
      "  (3, 40)\t1.0\n",
      "  (3, 50)\t1.0\n",
      "  (3, 57)\t1.0\n",
      "  (3, 59)\t-0.5439967565860303\n",
      "  (3, 60)\t-1.4001874156056544\n",
      "  (3, 61)\t-0.26200651533242125\n",
      "  (3, 62)\t0.502889956184781\n",
      "  (3, 63)\t-1.2263058090510075\n",
      "  (4, 24)\t1.0\n",
      "  (4, 53)\t1.0\n",
      "  (4, 59)\t-0.980151453755289\n",
      "  (4, 60)\t-0.21408275548323738\n",
      "  (4, 61)\t-0.26200651533242125\n",
      "  (4, 62)\t0.6477066106469235\n",
      "  (4, 63)\t-0.9371101387375516\n"
     ]
    }
   ],
   "source": [
    "print(\"Encoding categorical features and standardizing numerical features...\")\n",
    "\n",
    "X_test = featureencoder.transform(X_test)\n",
    "print(\"...Done\")\n",
    "print(X_test[0:5,:])"
   ]
  },
  {
   "cell_type": "code",
   "execution_count": 618,
   "metadata": {},
   "outputs": [
    {
     "name": "stdout",
     "output_type": "stream",
     "text": [
      "Predictions on test set...\n",
      "...Done.\n",
      "[0 0 0 ... 0 0 0]\n",
      "\n"
     ]
    }
   ],
   "source": [
    "# Predictions on test set\n",
    "print(\"Predictions on test set...\")\n",
    "Y_test_pred = classifier.predict(X_test)\n",
    "print(\"...Done.\")\n",
    "print(Y_test_pred)\n",
    "print()"
   ]
  },
  {
   "cell_type": "code",
   "execution_count": 619,
   "metadata": {},
   "outputs": [
    {
     "name": "stdout",
     "output_type": "stream",
     "text": [
      "f1-score on train set :  0.7011318446007954\n",
      "f1-score on test set :  0.6954718285516764\n"
     ]
    }
   ],
   "source": [
    "print(\"f1-score on train set : \", f1_score(Y_train, Y_train_pred))\n",
    "print(\"f1-score on test set : \", f1_score(Y_test, Y_test_pred))"
   ]
  },
  {
   "cell_type": "code",
   "execution_count": 620,
   "metadata": {},
   "outputs": [
    {
     "name": "stdout",
     "output_type": "stream",
     "text": [
      "CONFUSION MATRIX ON TEST SET\n"
     ]
    },
    {
     "data": {
      "text/plain": [
       "<matplotlib.axes._subplots.AxesSubplot at 0x21d6870e408>"
      ]
     },
     "execution_count": 620,
     "metadata": {},
     "output_type": "execute_result"
    },
    {
     "data": {
      "image/png": "[encoded data removed]",
      "text/plain": [
       "<Figure size 432x288 with 2 Axes>"
      ]
     },
     "metadata": {
      "needs_background": "light"
     },
     "output_type": "display_data"
    }
   ],
   "source": [
    "print(\"CONFUSION MATRIX ON TEST SET\")\n",
    "cm2=confusion_matrix(Y_test,Y_test_pred)\n",
    "sns.heatmap(cm2, annot=True, annot_kws={\"size\": 10}, fmt=\".2f\", linewidths=1)"
   ]
  },
  {
   "cell_type": "code",
   "execution_count": 621,
   "metadata": {},
   "outputs": [],
   "source": [
    "TN=cm2[0,0]\n",
    "FN=cm2[1,0]\n",
    "FP=cm2[0,1]\n",
    "TP=cm2[1,1]"
   ]
  },
  {
   "cell_type": "code",
   "execution_count": 622,
   "metadata": {},
   "outputs": [
    {
     "name": "stdout",
     "output_type": "stream",
     "text": [
      "true negatives: the model identified 54784 transactions as \"legitimate\" and it is correct\n",
      "false negatives: the model identified 2642 transactions as \"legitimate\" but it is actually a fraud \n",
      "false positives: the model identified 1 transactions as \"fraud\" but it is not one \n",
      "true positives: the model identified 3018 transactions as \"fraud\" and it is one \n"
     ]
    }
   ],
   "source": [
    "print('true negatives: the model identified {} transactions as \"legitimate\" and it is correct'.format(TN))\n",
    "print('false negatives: the model identified {} transactions as \"legitimate\" but it is actually a fraud '.format(FN))\n",
    "print('false positives: the model identified {} transactions as \"fraud\" but it is not one '.format(FP))\n",
    "print('true positives: the model identified {} transactions as \"fraud\" and it is one '.format(TP))"
   ]
  },
  {
   "cell_type": "markdown",
   "metadata": {},
   "source": [
    "## Evaluation in terms of costs\n",
    "\n",
    "To evaluate a model’s performance in terms of costs, I first calculated the sum of all costs resulting from the predictions based on whether the model predicted a False Positive, False Negative, True Positive or True Negative and the costs associated with each case."
   ]
  },
  {
   "cell_type": "code",
   "execution_count": 623,
   "metadata": {},
   "outputs": [
    {
     "data": {
      "text/plain": [
       "95413.90000000001"
      ]
     },
     "execution_count": 623,
     "metadata": {},
     "output_type": "execute_result"
    }
   ],
   "source": [
    "mean_purchase=36  # here 36 $ is the mean value of a purchase\n",
    "admin_cost=0.1  #administraion cost  \n",
    "cost_TN=0\n",
    "cost_TP=admin_cost\n",
    "cost_FN=mean_purchase\n",
    "cost_FP=admin_cost\n",
    "\n",
    "costs=TN*cost_TN+FN*cost_FN+TP*cost_TP+FP*cost_FP\n",
    "costs"
   ]
  },
  {
   "cell_type": "markdown",
   "metadata": {},
   "source": [
    "I then calculated the sum of the costs that would occur if all cases were predicted negative (“cost_max”), and define the cost savings as the fraction by which the actual predictions reduce the costs."
   ]
  },
  {
   "cell_type": "code",
   "execution_count": 624,
   "metadata": {},
   "outputs": [
    {
     "data": {
      "text/plain": [
       "195841.80000000002"
      ]
     },
     "execution_count": 624,
     "metadata": {},
     "output_type": "execute_result"
    }
   ],
   "source": [
    "percent_fraud=0.09\n",
    "costs_max=(TN+TP+FN+FP)*percent_fraud*mean_purchase\n",
    "costs_max"
   ]
  },
  {
   "cell_type": "code",
   "execution_count": 625,
   "metadata": {},
   "outputs": [
    {
     "name": "stdout",
     "output_type": "stream",
     "text": [
      "cost savings: 0.5128011486822528\n"
     ]
    }
   ],
   "source": [
    "cost_savings=1-(costs/costs_max)\n",
    "print(\"cost savings:\",cost_savings)"
   ]
  },
  {
   "cell_type": "code",
   "execution_count": null,
   "metadata": {},
   "outputs": [],
   "source": []
  }
 ],
 "metadata": {
  "kernelspec": {
   "display_name": "Python 3",
   "language": "python",
   "name": "python3"
  },
  "language_info": {
   "codemirror_mode": {
    "name": "ipython",
    "version": 3
   },
   "file_extension": ".py",
   "mimetype": "text/x-python",
   "name": "python",
   "nbconvert_exporter": "python",
   "pygments_lexer": "ipython3",
   "version": "3.7.7"
  }
 },
 "nbformat": 4,
 "nbformat_minor": 4
}
